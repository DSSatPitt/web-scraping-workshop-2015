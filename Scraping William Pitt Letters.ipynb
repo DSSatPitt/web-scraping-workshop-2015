{
 "cells": [
  {
   "cell_type": "markdown",
   "metadata": {},
   "source": [
    "# Scraping the William Pitt Family Papers"
   ]
  },
  {
   "cell_type": "markdown",
   "metadata": {},
   "source": [
    "[William Pitt letters in the university archive](http://digital.library.pitt.edu/cgi-bin/f/findaid/findaid-idx?c=ascead;cc=ascead;q1=DAR*;rgn=main;view=text;didno=US-PPiU-dar192508)"
   ]
  },
  {
   "cell_type": "code",
   "execution_count": 8,
   "metadata": {
    "collapsed": true
   },
   "outputs": [],
   "source": [
    "import requests\n",
    "from lxml import html"
   ]
  },
  {
   "cell_type": "code",
   "execution_count": 3,
   "metadata": {
    "collapsed": true
   },
   "outputs": [],
   "source": [
    "url = \"http://digital.library.pitt.edu/cgi-bin/f/findaid/findaid-idx?c=ascead;cc=ascead;q1=DAR*;rgn=main;view=text;didno=US-PPiU-dar192508\""
   ]
  },
  {
   "cell_type": "code",
   "execution_count": 4,
   "metadata": {
    "collapsed": true
   },
   "outputs": [],
   "source": [
    "req = requests.get(\"http://digital.library.pitt.edu/cgi-bin/f/findaid/findaid-idx?c=ascead;cc=ascead;q1=DAR*;rgn=main;view=text;didno=US-PPiU-dar192508\")"
   ]
  },
  {
   "cell_type": "code",
   "execution_count": 9,
   "metadata": {
    "collapsed": false
   },
   "outputs": [],
   "source": [
    "pitt_papers = html.document_fromstring(req.content)"
   ]
  },
  {
   "cell_type": "markdown",
   "metadata": {},
   "source": [
    "[How to use the XPATH sibling selector in a predicate](http://stackoverflow.com/questions/3388923/combining-the-use-of-preceding-and-following-sibling-in-the-same-xpath-query) "
   ]
  },
  {
   "cell_type": "code",
   "execution_count": 20,
   "metadata": {
    "collapsed": false
   },
   "outputs": [
    {
     "name": "stdout",
     "output_type": "stream",
     "text": [
      "Folder 1 -  William Pitt to the Governor of Pennsylvania,  February 4, 1757\n",
      "\n",
      "Folder 2 -  William Pitt to Sir Charles Tynt,  June 1, 1761\n",
      "\n",
      "Folder 3 -  William Pitt to Alexander Hood,  June 13, 1766\n",
      "\n",
      "Folder 4 -  William Pitt to --,  July 31, 1766\n",
      "\n",
      "Folder 5 -  Resolution from the Common Council of London to William Pitt,  February 10, 1775\n",
      "\n",
      "Folder 6 -  William Pitt to [Alexander] Hood,  May 15, 1771\n",
      "\n",
      "Folder 7 -  William Pitt to Alexander Hood,  March 8, 1772\n",
      "\n",
      "Folder 8 -  William Pitt to [Alexander] Hood,  July 24, 1772\n",
      "\n",
      "Folder 9 -  William Pitt to [Alexander] Hood,  September 16, 1772\n",
      "\n",
      "Folder 10 -  Hester Grenville Pitt to [Alexander Hood],  October 7, 1772\n",
      "\n",
      "Folder 11 -  Hester Grenville Pitt to Alexander Hood,  November 7, 1772\n",
      "\n",
      "Folder 12 -  William Pitt to [Alexander Hood],  November 30, 1772\n",
      "\n",
      "Folder 13 -  Hester Grenville Pitt to Alexander Hood,  April 25. 1773\n",
      "\n",
      "Folder 14 -  Hester Grenville Pitt to [Alexander] Hood,  May 10, 1773\n",
      "\n",
      "Folder 15 -  William Pitt to --,  June 12, 1773\n",
      "\n",
      "Folder 16 -  William Pitt to Alexander Hood,  July 26, 1773\n",
      "\n",
      "Folder 17 -  William Pitt to Mrs. [Alexander] Hood,  July 13, 1773\n",
      "\n",
      "Folder 18 -  Hester Grenville Pitt to [Alexander] Hood,  February 22, 1774\n",
      "\n",
      "Folder 19 -  William Pitt the Younger to Alexander Hood,  November 13, 1775\n",
      "\n",
      "Folder 20 -  Hester Grenville Pitt to [Alexander Hood],  March 5, 1776\n",
      "\n",
      "Folder 21 -  Declaration made by William Pitt to Doctor Addington,  July, 1776\n",
      "\n",
      "Folder 22 -  Great Britain Department of Treasury Pay Warrant,  January 11, 1783\n",
      "\n",
      "Folder 23 -  William Pitt the Younger to --,  September 22, 1780\n",
      "\n",
      "Folder 24 -  William Pitt the Younger to --,  July 14, 1785\n",
      "\n",
      "Folder 25 -  William Pitt the Younger to Madame Gratarole,  March 4, 1786\n",
      "\n",
      "Folder 26 -  William Pitt the Younger to --,  January 1, 1787\n",
      "\n",
      "Folder 27 -  William Pitt the Younger to [Alexander] Hood, September 22, 1787\n",
      "\n",
      "Folder 28 -  Hester Grenville Pitt to [Alexander Hood],  May 3, 1788\n",
      "\n",
      "Folder 29 -  William Pitt the Younger to Lady Chatham,  July 20, 1790\n",
      "\n",
      "Folder 30 -  William Pitt the Younger to --,  May 18, 1796\n",
      "\n",
      "Folder 31 -  William Pitt the Younger to --,  September 14, 1799\n",
      "\n",
      "Folder 32 -  William Pitt the Younger to [University of Cambridge],  May 10, 1804\n",
      "\n",
      "Folder 33 -  William Pitt the Younger to Lord Kingston,  June 26, 1804\n",
      "\n",
      "Folder 34 -  William Pitt the Younger to [Mr. Taylor],  October 27, 1804\n",
      "\n",
      "Folder 35 -  William Pitt to \"My dear Lord,\"  undated\n",
      "\n",
      "Folder 36 -  William Pitt to Mr. Richardson,  undated\n",
      "\n",
      "Folder 37 -  William Pitt to --,  undated\n",
      "\n",
      "Folder 38 -  William Pitt to Captain and Mrs.[Alexander] Hood,  undated\n",
      "\n",
      "Folder 39 -  William Pitt to [Alexander] Hood,  undated\n",
      "\n",
      "Folder 40 -  William Pitt to Captain [Alexander] Hood,  undated\n",
      "\n",
      "Folder 41 -  Hester Grenville Pitt to Viscountess Bridport [Mrs. Alexander Hood],  undated\n",
      "\n",
      "Folder 42 -  Hester Grenville Pitt to Madame [Hood],  undated\n",
      "\n",
      "Folder 43 -  William Pitt the Younger to Alexander Hood,  undated\n",
      "\n",
      "Folder 44 -  William Pitt the Younger to Alexander Hood,  undated\n",
      "\n",
      "Folder 45 -  William Pitt the Younger to [His Royal Highness],  undated\n",
      "\n",
      "Folder 46 -  [William Pitt the Younger] to \"My dear Lord,\"  undated\n",
      "\n"
     ]
    }
   ],
   "source": [
    "# list every row in the program html table\n",
    "selector = \"//table[following-sibling::ul/@class='dao']//tr\"\n",
    "for row in pitt_papers.xpath(selector):\n",
    "    #print(len(row))\n",
    "    #print(row.text_content())\n",
    "    print(\"{} {} - {}\".format(row[0].text_content(), \n",
    "                              row[1].text_content(), \n",
    "                              row[2].text_content()))"
   ]
  },
  {
   "cell_type": "code",
   "execution_count": 22,
   "metadata": {
    "collapsed": false
   },
   "outputs": [
    {
     "name": "stdout",
     "output_type": "stream",
     "text": [
      "http://digital.library.pitt.edu/u/ulsmanuscripts/pdf/31735060226416.pdf\n",
      "http://digital.library.pitt.edu/u/ulsmanuscripts/pdf/31735060226374.pdf\n",
      "http://digital.library.pitt.edu/u/ulsmanuscripts/pdf/31735060226333.pdf\n",
      "http://digital.library.pitt.edu/u/ulsmanuscripts/pdf/31735060226291.pdf\n",
      "http://digital.library.pitt.edu/u/ulsmanuscripts/pdf/31735060226259.pdf\n",
      "http://digital.library.pitt.edu/u/ulsmanuscripts/pdf/31735060226218.pdf\n",
      "http://digital.library.pitt.edu/u/ulsmanuscripts/pdf/31735060226176.pdf\n",
      "http://digital.library.pitt.edu/u/ulsmanuscripts/pdf/31735060226135.pdf\n",
      "http://digital.library.pitt.edu/u/ulsmanuscripts/pdf/31735060226093.pdf\n",
      "http://digital.library.pitt.edu/u/ulsmanuscripts/pdf/31735060226051.pdf\n",
      "http://digital.library.pitt.edu/u/ulsmanuscripts/pdf/31735060226010.pdf\n",
      "http://digital.library.pitt.edu/u/ulsmanuscripts/pdf/31735060225970.pdf\n",
      "http://digital.library.pitt.edu/u/ulsmanuscripts/pdf/31735060225939.pdf\n",
      "http://digital.library.pitt.edu/u/ulsmanuscripts/pdf/31735060225897.pdf\n",
      "http://digital.library.pitt.edu/u/ulsmanuscripts/pdf/31735060225855.pdf\n",
      "http://digital.library.pitt.edu/u/ulsmanuscripts/pdf/31735060225814.pdf\n",
      "http://digital.library.pitt.edu/u/ulsmanuscripts/pdf/31735060225905.pdf\n",
      "http://digital.library.pitt.edu/u/ulsmanuscripts/pdf/31735060225863.pdf\n",
      "http://digital.library.pitt.edu/u/ulsmanuscripts/pdf/31735060225822.pdf\n",
      "http://digital.library.pitt.edu/u/ulsmanuscripts/pdf/31735060225947.pdf\n",
      "http://digital.library.pitt.edu/u/ulsmanuscripts/pdf/31735060225988.pdf\n",
      "http://digital.library.pitt.edu/u/ulsmanuscripts/pdf/31735060226028.pdf\n",
      "http://digital.library.pitt.edu/u/ulsmanuscripts/pdf/31735060226069.pdf\n",
      "http://digital.library.pitt.edu/u/ulsmanuscripts/pdf/31735060226101.pdf\n",
      "http://digital.library.pitt.edu/u/ulsmanuscripts/pdf/31735060226143.pdf\n",
      "http://digital.library.pitt.edu/u/ulsmanuscripts/pdf/31735060226184.pdf\n",
      "http://digital.library.pitt.edu/u/ulsmanuscripts/pdf/31735060226226.pdf\n",
      "http://digital.library.pitt.edu/u/ulsmanuscripts/pdf/31735060226267.pdf\n",
      "http://digital.library.pitt.edu/u/ulsmanuscripts/pdf/31735060226309.pdf\n",
      "http://digital.library.pitt.edu/u/ulsmanuscripts/pdf/31735060226382.pdf\n",
      "http://digital.library.pitt.edu/u/ulsmanuscripts/pdf/31735060226341.pdf\n",
      "http://digital.library.pitt.edu/u/ulsmanuscripts/pdf/31735060226424.pdf\n",
      "http://digital.library.pitt.edu/u/ulsmanuscripts/pdf/31735060226432.pdf\n",
      "http://digital.library.pitt.edu/u/ulsmanuscripts/pdf/31735060226390.pdf\n",
      "http://digital.library.pitt.edu/u/ulsmanuscripts/pdf/31735060226234.pdf\n",
      "http://digital.library.pitt.edu/u/ulsmanuscripts/pdf/31735060226358.pdf\n",
      "http://digital.library.pitt.edu/u/ulsmanuscripts/pdf/31735060226317.pdf\n",
      "http://digital.library.pitt.edu/u/ulsmanuscripts/pdf/31735060226275.pdf\n",
      "http://digital.library.pitt.edu/u/ulsmanuscripts/pdf/31735060226192.pdf\n",
      "http://digital.library.pitt.edu/u/ulsmanuscripts/pdf/31735060226150.pdf\n",
      "http://digital.library.pitt.edu/u/ulsmanuscripts/pdf/31735060226119.pdf\n",
      "http://digital.library.pitt.edu/u/ulsmanuscripts/pdf/31735060226077.pdf\n",
      "http://digital.library.pitt.edu/u/ulsmanuscripts/pdf/31735060226036.pdf\n",
      "http://digital.library.pitt.edu/u/ulsmanuscripts/pdf/31735060225996.pdf\n",
      "http://digital.library.pitt.edu/u/ulsmanuscripts/pdf/31735060225954.pdf\n",
      "http://digital.library.pitt.edu/u/ulsmanuscripts/pdf/31735060225913.pdf\n"
     ]
    }
   ],
   "source": [
    "# list every row in the program html table\n",
    "selector = \"//ul[@class='dao']//a/@href\"\n",
    "for row in pitt_papers.xpath(selector):\n",
    "    #print(len(row))\n",
    "    print(row)\n",
    "    "
   ]
  },
  {
   "cell_type": "code",
   "execution_count": null,
   "metadata": {
    "collapsed": true
   },
   "outputs": [],
   "source": []
  }
 ],
 "metadata": {
  "kernelspec": {
   "display_name": "Python 3",
   "language": "python",
   "name": "python3"
  },
  "language_info": {
   "codemirror_mode": {
    "name": "ipython",
    "version": 3
   },
   "file_extension": ".py",
   "mimetype": "text/x-python",
   "name": "python",
   "nbconvert_exporter": "python",
   "pygments_lexer": "ipython3",
   "version": "3.4.2"
  }
 },
 "nbformat": 4,
 "nbformat_minor": 0
}
